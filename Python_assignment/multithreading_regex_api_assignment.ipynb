{
 "cells": [
  {
   "cell_type": "raw",
   "id": "99380a7d",
   "metadata": {},
   "source": [
    "Multithreading, regex, API request assignment.\n",
    "\n",
    "1. Write a normal python program to calculate squares and cubes of [1,2,3,4,5,6,7]. Then implement the same with multithreading without synchronization and with synchronization. And observe the time difference in all 3 codes. (Note: after each operation of square and cube for a number put sleep of 1 sec for better understanding.)\n",
    "\n",
    "2. Write a Python program to remove the parenthesis area in a string. Sample data: [\"example (.in)\", \"w3resource\", \"github (.com)\", \"stackoverflow (.us1)\"] Expected Output: example w3resource github stackoverflow\n",
    "\n",
    "3. Write a python program to hit GET api:https://restcountries.com/v3.1/alpha/pe and print:\n",
    "\n",
    "    a. All 3 languages with full names.\n",
    "\n",
    "    b. Capital, area, population."
   ]
  },
  {
   "cell_type": "code",
   "execution_count": 35,
   "id": "bb231246",
   "metadata": {},
   "outputs": [],
   "source": [
    "import time\n",
    "def calculateSquare(l):\n",
    "    starttime = time.time()\n",
    "    square = []\n",
    "    for each in l:\n",
    "        square.append(each**2)\n",
    "        time.sleep(1)\n",
    "    print(square) \n",
    "    endtime = time.time()\n",
    "    print(\"Time take for squares: \",endtime-starttime)\n",
    "\n",
    "def calculateCube(l):\n",
    "    starttime = time.time()\n",
    "    cube = []\n",
    "    for each in l:\n",
    "        cube.append(each**3)\n",
    "        time.sleep(1)\n",
    "    print(cube) \n",
    "    endtime = time.time()\n",
    "    print(\"Time take for cubes: \",endtime-starttime)"
   ]
  },
  {
   "cell_type": "code",
   "execution_count": 36,
   "id": "73faa815",
   "metadata": {},
   "outputs": [
    {
     "name": "stdout",
     "output_type": "stream",
     "text": [
      "[1, 4, 9, 16, 25, 36, 49]\n",
      "Time take for squares:  7.002330303192139\n",
      "[1, 8, 27, 64, 125, 216, 343]\n",
      "Time take for cubes:  7.0035083293914795\n"
     ]
    }
   ],
   "source": [
    "# Normal Run\n",
    "if __name__ == '__main__':\n",
    "    calculateSquare([1,2,3,4,5,6,7])\n",
    "    \n",
    "    calculateCube([1,2,3,4,5,6,7])\n",
    "    "
   ]
  },
  {
   "cell_type": "code",
   "execution_count": 37,
   "id": "be023ce9",
   "metadata": {},
   "outputs": [
    {
     "name": "stdout",
     "output_type": "stream",
     "text": [
      "[1, 8, 27, 64, 125, 216, 343]\n",
      "Time take for cubes:  7.008602142333984\n",
      "[1, 4, 9, 16, 25, 36, 49]\n",
      "Time take for squares:  7.0122435092926025\n",
      "Done!\n"
     ]
    }
   ],
   "source": [
    "# Running in multithreading environment asynchronously\n",
    "import threading \n",
    "if __name__ == '__main__':\n",
    "    t1 = threading.Thread(target=calculateSquare,args=[[1,2,3,4,5,6,7]])\n",
    "    t2 = threading.Thread(target=calculateCube, args=[[1,2,3,4,5,6,7]])\n",
    "    t1.start()\n",
    "    t2.start()\n",
    "    t1.join()\n",
    "    t2.join()\n",
    "    print(\"Done!\")"
   ]
  },
  {
   "cell_type": "code",
   "execution_count": 38,
   "id": "4612c679",
   "metadata": {},
   "outputs": [
    {
     "name": "stdout",
     "output_type": "stream",
     "text": [
      "[1, 4, 9, 16, 25, 36, 49]\n",
      "Time take for squares:  7.006737232208252\n",
      "[1, 8, 27, 64, 125, 216, 343]\n",
      "Time take for cubes:  7.00642728805542\n"
     ]
    }
   ],
   "source": [
    "# Running in multithreading environment synchronously\n",
    "import threading\n",
    "l = [1,2,3,4,5,6,7]\n",
    "def taskExecution(lock,s):\n",
    "    if s == \"squares\":\n",
    "        lock.acquire()\n",
    "        calculateSquare(l)\n",
    "        lock.release()\n",
    "    elif s=='cubes':\n",
    "        lock.acquire()\n",
    "        calculateCube(l)\n",
    "        lock.release()\n",
    "\n",
    "\n",
    "\n",
    "if __name__ == '__main__':\n",
    "    lock = threading.Lock()\n",
    "    t1 = threading.Thread(target=taskExecution, args=[lock,'squares'])\n",
    "    t2 = threading.Thread(target=taskExecution, args=[lock,'cubes'])\n",
    "    t1.start()\n",
    "    t2.start()\n",
    "    t1.join()\n",
    "    t2.join()\n",
    "    \n",
    "    \n",
    "    \n"
   ]
  },
  {
   "cell_type": "code",
   "execution_count": 39,
   "id": "60ea14a1",
   "metadata": {},
   "outputs": [
    {
     "data": {
      "text/plain": [
       "['example ', 'w3resource', 'github ', 'stackoverflow ']"
      ]
     },
     "execution_count": 39,
     "metadata": {},
     "output_type": "execute_result"
    }
   ],
   "source": [
    "#assignment 2\n",
    "\n",
    "import re\n",
    "list1 = [\"example (.in)\", \"w3resource\", \"github (.com)\", \"stackoverflow (.us1)\"]\n",
    "for each in list1:\n",
    "    list1[list1.index(each)] = re.sub(\"[\\(\\[].*?[\\])]\",\"\",each)\n",
    "list1"
   ]
  },
  {
   "cell_type": "code",
   "execution_count": 40,
   "id": "8a7d7cc0",
   "metadata": {},
   "outputs": [
    {
     "name": "stdout",
     "output_type": "stream",
     "text": [
      "language----full_name\n",
      "aym----Aymara\n",
      "que----Quechua\n",
      "spa----Spanish\n",
      "\n",
      "Capital is:  Lima\n",
      "\n",
      "Total area:  1285216.0\n",
      "\n",
      "Total population:  32971846\n"
     ]
    }
   ],
   "source": [
    "# Assignment 3\n",
    "\n",
    "import requests\n",
    "r = requests.get('https://restcountries.com/v3.1/alpha/pe')\n",
    "dict1 = r.json()[0]\n",
    "print(\"language----full_name\")\n",
    "for key in dict1['languages']:\n",
    "    print(key+\"----\"+dict1['languages'][key])\n",
    "    \n",
    "print(\"\\nCapital is: \",dict1['capital'][0])\n",
    "print(\"\\nTotal area: \",dict1['area'])\n",
    "print(\"\\nTotal population: \",dict1['population'])\n"
   ]
  },
  {
   "cell_type": "code",
   "execution_count": null,
   "id": "c2b7e5e5",
   "metadata": {},
   "outputs": [],
   "source": []
  },
  {
   "cell_type": "code",
   "execution_count": null,
   "id": "4bfde11b",
   "metadata": {},
   "outputs": [],
   "source": []
  }
 ],
 "metadata": {
  "kernelspec": {
   "display_name": "Python 3 (ipykernel)",
   "language": "python",
   "name": "python3"
  },
  "language_info": {
   "codemirror_mode": {
    "name": "ipython",
    "version": 3
   },
   "file_extension": ".py",
   "mimetype": "text/x-python",
   "name": "python",
   "nbconvert_exporter": "python",
   "pygments_lexer": "ipython3",
   "version": "3.10.2"
  }
 },
 "nbformat": 4,
 "nbformat_minor": 5
}
